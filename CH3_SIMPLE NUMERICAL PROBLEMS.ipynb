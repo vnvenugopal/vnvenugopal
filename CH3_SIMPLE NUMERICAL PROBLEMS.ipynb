{
 "cells": [
  {
   "cell_type": "markdown",
   "id": "2830b800",
   "metadata": {},
   "source": [
    "# 3.1: Exhaustive Enumeration"
   ]
  },
  {
   "cell_type": "code",
   "execution_count": 2,
   "id": "e83c9447",
   "metadata": {},
   "outputs": [
    {
     "name": "stdout",
     "output_type": "stream",
     "text": [
      "Enter an integer: 729\n",
      "Cube root of 729 is 9\n"
     ]
    }
   ],
   "source": [
    "# Find the cube root of a perfect cube\n",
    "x = int(input('Enter an integer: '))\n",
    "ans = 0\n",
    "while ans**3 < abs(x):\n",
    "    ans = ans + 1\n",
    "if ans**3 != abs(x):\n",
    "    print(x,\"is not a perfect cube\")\n",
    "else:\n",
    "    if x<0:\n",
    "        ans = -ans\n",
    "    print('Cube root of',x,'is',ans)"
   ]
  },
  {
   "cell_type": "code",
   "execution_count": 3,
   "id": "d09c703b",
   "metadata": {},
   "outputs": [
    {
     "name": "stdout",
     "output_type": "stream",
     "text": [
      "Enter a positive integer: 1024\n",
      "1024\n",
      "Execution time: 6.1631 seconds\n"
     ]
    }
   ],
   "source": [
    "import time\n",
    "st = time.time() # get the start time\n",
    "\n",
    "max_val = int(input('Enter a positive integer: '))\n",
    "i = 0\n",
    "while i < max_val:\n",
    "    i = i+1\n",
    "time.sleep(3) # wait for 3 seconds\n",
    "print(i)\n",
    "\n",
    "et = time.time() # get the end time\n",
    "elapsed_time = round((et - st),4)\n",
    "print('Execution time:', elapsed_time, 'seconds')"
   ]
  },
  {
   "cell_type": "code",
   "execution_count": 4,
   "id": "c4b54a74",
   "metadata": {},
   "outputs": [
    {
     "name": "stdout",
     "output_type": "stream",
     "text": [
      "Enter an integer number greater than 2: 1010010001\n",
      "Smallest divisor of 1010010001 is 7\n"
     ]
    }
   ],
   "source": [
    "# Using exhaustive enumeration to test primarility\n",
    "# Test if an int > 2 is prime. If not, print smallest divisor\n",
    "x = int(input('Enter an integer number greater than 2: '))\n",
    "smallest_divisor = None\n",
    "for guess in range (2,x):\n",
    "    if x%guess==0:\n",
    "        smallest_divisor = guess\n",
    "        break\n",
    "if smallest_divisor!=None:\n",
    "    print('Smallest divisor of',x,'is',smallest_divisor)\n",
    "else:\n",
    "    print(x,'is a prime number')\n"
   ]
  },
  {
   "cell_type": "code",
   "execution_count": 5,
   "id": "16e4615e",
   "metadata": {},
   "outputs": [
    {
     "name": "stdout",
     "output_type": "stream",
     "text": [
      "Enter an integer number greater than 2: 1010010001\n",
      "Largest divisor of 1010010001 is 144287143\n"
     ]
    }
   ],
   "source": [
    "# Change the above code so that it returns the largest divisor\n",
    "x = int(input('Enter an integer number greater than 2: '))\n",
    "smallest_divisor = None\n",
    "for guess in range (2,x):\n",
    "    if x%guess==0:\n",
    "        smallest_divisor = guess\n",
    "        largest_divisor = int(x/smallest_divisor)\n",
    "        break\n",
    "if smallest_divisor!=None:    \n",
    "    print('Largest divisor of',x,'is',largest_divisor)\n",
    "else:\n",
    "    print(x,'is a prime number')\n"
   ]
  },
  {
   "cell_type": "code",
   "execution_count": 6,
   "id": "d89b7455",
   "metadata": {},
   "outputs": [
    {
     "name": "stdout",
     "output_type": "stream",
     "text": [
      "Enter an integer number greater than 2: 1010010001\n",
      "Smallest divisor of 1010010001 is 7\n"
     ]
    }
   ],
   "source": [
    "# A more efficient primality test\n",
    "\n",
    "x = int(input('Enter an integer number greater than 2: '))\n",
    "smallest_divisor = None\n",
    "if x%2 == 0:\n",
    "    smallest_divisor = 2\n",
    "\n",
    "else:\n",
    "    for guess in range (3,x,2):\n",
    "        if x%guess==0:\n",
    "            smallest_divisor = guess\n",
    "            break\n",
    "if smallest_divisor!=None:\n",
    "    print('Smallest divisor of',x,'is',smallest_divisor)\n",
    "else:\n",
    "    print(x,'is a prime number')\n"
   ]
  },
  {
   "cell_type": "code",
   "execution_count": 8,
   "id": "c44dc37b",
   "metadata": {},
   "outputs": [
    {
     "name": "stdout",
     "output_type": "stream",
     "text": [
      "81 248832 1048576 3375\n"
     ]
    }
   ],
   "source": [
    "print(3**4, 12**5, 1024**2,15**3)"
   ]
  },
  {
   "cell_type": "markdown",
   "id": "14db8f65",
   "metadata": {},
   "source": [
    "###### Finger exercide: Write a program that asks the user to enter an integer and prints two integers root and pwr such that 1<pwr<6 and root**pwr is equal to the integer entered by the user. If no such pair of integers exists, it should print a message to that effect\n",
    "\n",
    "\n",
    "        "
   ]
  },
  {
   "cell_type": "code",
   "execution_count": 9,
   "id": "c47d00e8",
   "metadata": {},
   "outputs": [
    {
     "name": "stdout",
     "output_type": "stream",
     "text": [
      "Enter an integer number greater than 2: 3375\n",
      "15 ** 3 = 3375\n"
     ]
    }
   ],
   "source": [
    "x = int(input('Enter an integer number greater than 2: '))\n",
    "check = False\n",
    "\n",
    "for gpwr in range(1,6):\n",
    "    for groot in range(1,x):\n",
    "        if groot**gpwr == x:\n",
    "            check = True\n",
    "            root = groot\n",
    "            pwr = gpwr\n",
    "            break\n",
    "if check==False:\n",
    "    print(\"no two pair of integers satifies the condition\")\n",
    "else:\n",
    "    print(root,'**',pwr,'=',x)\n"
   ]
  },
  {
   "cell_type": "markdown",
   "id": "8b1cb4f0",
   "metadata": {},
   "source": [
    "###### Finger exercise: Write a program that prints the sum of prime numbers greater than 2 and less than 1000"
   ]
  },
  {
   "cell_type": "code",
   "execution_count": 10,
   "id": "e2c655df",
   "metadata": {},
   "outputs": [
    {
     "name": "stdout",
     "output_type": "stream",
     "text": [
      "76125\n"
     ]
    }
   ],
   "source": [
    "prime_sum = 0\n",
    "for i in range(3,1000,2):\n",
    "    flag = 0\n",
    "    for j in range (2,i):\n",
    "        if (i%j==0):\n",
    "            flag = 1\n",
    "    if flag==0:\n",
    "        prime_sum = prime_sum + i\n",
    "   \n",
    "print(prime_sum)\n",
    "\n"
   ]
  },
  {
   "cell_type": "markdown",
   "id": "9e2385ee",
   "metadata": {},
   "source": [
    "# 3.2 Approximate Solutions and Bisection Search"
   ]
  },
  {
   "cell_type": "code",
   "execution_count": 11,
   "id": "9a66cf6a",
   "metadata": {},
   "outputs": [
    {
     "name": "stdout",
     "output_type": "stream",
     "text": [
      "Enter a number greater 0: 123456\n",
      "Number of guesses = 351363047\n",
      "351.36304620491023 is close enough to square root of 123456.0\n"
     ]
    }
   ],
   "source": [
    "# a program that prints an approximation to the square root of x\n",
    "# an answer that is close enough, within some constant epsilon of the answer\n",
    "\n",
    "x = float(input('Enter a number greater 0: '))\n",
    "epsilon = 0.01\n",
    "step = epsilon**3\n",
    "num_guesses = 0\n",
    "ans = 0.0\n",
    "\n",
    "while abs(ans**2-x)>=epsilon and ans*ans<=x:\n",
    "    ans += step\n",
    "    num_guesses += 1\n",
    "\n",
    "print(\"Number of guesses =\",num_guesses)\n",
    "\n",
    "if abs(ans**2-x) >= epsilon:\n",
    "    print(\"Failed on square root of\",x)\n",
    "else:\n",
    "    print(ans,\"is close enough to square root of\",x)\n",
    "\n",
    "\n"
   ]
  },
  {
   "cell_type": "code",
   "execution_count": 12,
   "id": "6494cdef",
   "metadata": {},
   "outputs": [
    {
     "name": "stdout",
     "output_type": "stream",
     "text": [
      "Enter a number greater 0: 123456\n",
      "low = 0 high = 123456.0 ans = 61728.0\n",
      "low = 0 high = 61728.0 ans = 30864.0\n",
      "low = 0 high = 30864.0 ans = 15432.0\n",
      "low = 0 high = 15432.0 ans = 7716.0\n",
      "low = 0 high = 7716.0 ans = 3858.0\n",
      "low = 0 high = 3858.0 ans = 1929.0\n",
      "low = 0 high = 1929.0 ans = 964.5\n",
      "low = 0 high = 964.5 ans = 482.25\n",
      "low = 0 high = 482.25 ans = 241.125\n",
      "low = 241.125 high = 482.25 ans = 361.6875\n",
      "low = 241.125 high = 361.6875 ans = 301.40625\n",
      "low = 301.40625 high = 361.6875 ans = 331.546875\n",
      "low = 331.546875 high = 361.6875 ans = 346.6171875\n",
      "low = 346.6171875 high = 361.6875 ans = 354.15234375\n",
      "low = 346.6171875 high = 354.15234375 ans = 350.384765625\n",
      "low = 350.384765625 high = 354.15234375 ans = 352.2685546875\n",
      "low = 350.384765625 high = 352.2685546875 ans = 351.32666015625\n",
      "low = 351.32666015625 high = 352.2685546875 ans = 351.797607421875\n",
      "low = 351.32666015625 high = 351.797607421875 ans = 351.5621337890625\n",
      "low = 351.32666015625 high = 351.5621337890625 ans = 351.44439697265625\n",
      "low = 351.32666015625 high = 351.44439697265625 ans = 351.3855285644531\n",
      "low = 351.32666015625 high = 351.3855285644531 ans = 351.35609436035156\n",
      "low = 351.35609436035156 high = 351.3855285644531 ans = 351.37081146240234\n",
      "low = 351.35609436035156 high = 351.37081146240234 ans = 351.36345291137695\n",
      "low = 351.35609436035156 high = 351.36345291137695 ans = 351.35977363586426\n",
      "low = 351.35977363586426 high = 351.36345291137695 ans = 351.3616132736206\n",
      "low = 351.3616132736206 high = 351.36345291137695 ans = 351.3625330924988\n",
      "low = 351.3625330924988 high = 351.36345291137695 ans = 351.36299300193787\n",
      "low = 351.36299300193787 high = 351.36345291137695 ans = 351.3632229566574\n",
      "low = 351.36299300193787 high = 351.3632229566574 ans = 351.36310797929764\n",
      "Number of guesses = 30\n",
      "351.36305049061775 is close to the square root of 123456.0\n"
     ]
    }
   ],
   "source": [
    "x = float(input('Enter a number greater 0: '))\n",
    "epsilon = 0.01\n",
    "num_guesses, low = 0,0\n",
    "high = max(1,x)\n",
    "ans = (high+low)/2\n",
    "\n",
    "while abs(ans**2 - x) >= epsilon:\n",
    "    print('low =',low,'high =',high,'ans =',ans)\n",
    "    num_guesses += 1\n",
    "    if ans**2 < x:\n",
    "        low = ans\n",
    "    else:\n",
    "        high = ans\n",
    "    ans = (high+low)/2\n",
    "    \n",
    "print(\"Number of guesses =\", num_guesses)\n",
    "print(ans,'is close to the square root of',x)\n",
    "    "
   ]
  },
  {
   "cell_type": "code",
   "execution_count": 13,
   "id": "1773b6e6",
   "metadata": {},
   "outputs": [
    {
     "name": "stdout",
     "output_type": "stream",
     "text": [
      "Enter a number greater 0: 65536\n",
      "16.0 is close to the log base 2 of 65536.0\n"
     ]
    }
   ],
   "source": [
    "# Bisection search to find the log base 2 of x\n",
    "x = float(input('Enter a number greater 0: '))\n",
    "lower_bound = 0\n",
    "\n",
    "while 2**lower_bound<x:\n",
    "    lower_bound += 1\n",
    "\n",
    "low = lower_bound - 1\n",
    "high = lower_bound + 1\n",
    "# perform bisection search\n",
    "ans = (high+low)/2\n",
    "while abs(2**ans -x) >= epsilon:\n",
    "    if 2**ans < x:\n",
    "        low = ans\n",
    "    else:\n",
    "        high = ans\n",
    "    ans = (high+low)/2\n",
    "print(ans,\"is close to the log base 2 of\",x)"
   ]
  },
  {
   "cell_type": "markdown",
   "id": "b06a359b",
   "metadata": {},
   "source": [
    "###### What would have to be changed to make the code in Fig 3-5 work for finding an approximation to the cube root of both positive and negative numbers"
   ]
  },
  {
   "cell_type": "code",
   "execution_count": 14,
   "id": "e1151a58",
   "metadata": {},
   "outputs": [
    {
     "name": "stdout",
     "output_type": "stream",
     "text": [
      "Enter a number: 729\n",
      "low = 0 high = 729.0 ans = 364.5\n",
      "low = 0 high = 364.5 ans = 182.25\n",
      "low = 0 high = 182.25 ans = 91.125\n",
      "low = 0 high = 91.125 ans = 45.5625\n",
      "low = 0 high = 45.5625 ans = 22.78125\n",
      "low = 0 high = 22.78125 ans = 11.390625\n",
      "low = 0 high = 11.390625 ans = 5.6953125\n",
      "low = 5.6953125 high = 11.390625 ans = 8.54296875\n",
      "low = 8.54296875 high = 11.390625 ans = 9.966796875\n",
      "low = 8.54296875 high = 9.966796875 ans = 9.2548828125\n",
      "low = 8.54296875 high = 9.2548828125 ans = 8.89892578125\n",
      "low = 8.89892578125 high = 9.2548828125 ans = 9.076904296875\n",
      "low = 8.89892578125 high = 9.076904296875 ans = 8.9879150390625\n",
      "low = 8.9879150390625 high = 9.076904296875 ans = 9.03240966796875\n",
      "low = 8.9879150390625 high = 9.03240966796875 ans = 9.010162353515625\n",
      "low = 8.9879150390625 high = 9.010162353515625 ans = 8.999038696289062\n",
      "low = 8.999038696289062 high = 9.010162353515625 ans = 9.004600524902344\n",
      "low = 8.999038696289062 high = 9.004600524902344 ans = 9.001819610595703\n",
      "low = 8.999038696289062 high = 9.001819610595703 ans = 9.000429153442383\n",
      "low = 8.999038696289062 high = 9.000429153442383 ans = 8.999733924865723\n",
      "low = 8.999733924865723 high = 9.000429153442383 ans = 9.000081539154053\n",
      "low = 8.999733924865723 high = 9.000081539154053 ans = 8.999907732009888\n",
      "Number of guesses = 22\n",
      "8.99999463558197 is close to the cube root of 729.0\n"
     ]
    }
   ],
   "source": [
    "x = float(input('Enter a number: '))\n",
    "epsilon = 0.01\n",
    "num_guesses = 0\n",
    "low = min(0,x)\n",
    "high = max(1,x)\n",
    "ans = (high+low)/2\n",
    "\n",
    "while abs(ans**3 - x) >= epsilon:\n",
    "    print('low =',low,'high =',high,'ans =',ans)\n",
    "    num_guesses += 1\n",
    "    if ans**3 < x:\n",
    "        low = ans\n",
    "    else:\n",
    "        high = ans\n",
    "    ans = (high+low)/2\n",
    "    \n",
    "print(\"Number of guesses =\", num_guesses)\n",
    "print(ans,'is close to the cube root of',x)"
   ]
  },
  {
   "cell_type": "markdown",
   "id": "c38e8bb6",
   "metadata": {},
   "source": [
    "###### Finger Exercise: The Empire State Building is 102 stories high. A man wanted to know the highest floor from which he could drop an egg without the egg breaking. If it broke, he would go down a floor and try again. He would do this until the egg did not break. At worst, this method requires 102 eggs. Implement a method that at worst uses 7 eggs."
   ]
  },
  {
   "cell_type": "code",
   "execution_count": 18,
   "id": "d7d4fea3",
   "metadata": {},
   "outputs": [
    {
     "name": "stdout",
     "output_type": "stream",
     "text": [
      "Enter floor number between 1 and 102 when egg breaks: 23\n"
     ]
    }
   ],
   "source": [
    "x = int(input('Enter floor number between 1 and 102 when egg breaks: '))\n",
    "Total_eggs = 7\n",
    "guess = False\n",
    "eggs_used = 0\n",
    "low = 0\n",
    "high = 102\n",
    "\n",
    "while eggs_used <= Total_eggs:\n",
    "    if\n",
    "    \n",
    "    \n"
   ]
  },
  {
   "cell_type": "code",
   "execution_count": null,
   "id": "d98b2b55",
   "metadata": {},
   "outputs": [],
   "source": []
  }
 ],
 "metadata": {
  "kernelspec": {
   "display_name": "Python 3 (ipykernel)",
   "language": "python",
   "name": "python3"
  },
  "language_info": {
   "codemirror_mode": {
    "name": "ipython",
    "version": 3
   },
   "file_extension": ".py",
   "mimetype": "text/x-python",
   "name": "python",
   "nbconvert_exporter": "python",
   "pygments_lexer": "ipython3",
   "version": "3.9.7"
  }
 },
 "nbformat": 4,
 "nbformat_minor": 5
}
